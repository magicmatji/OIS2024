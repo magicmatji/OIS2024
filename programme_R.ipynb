{
 "cells": [
  {
   "cell_type": "code",
   "execution_count": 1,
   "id": "7f0a32ff-def9-41f6-b4cc-25dab9e73df3",
   "metadata": {
    "execution": {
     "iopub.execute_input": "2024-05-22T14:45:12.860753Z",
     "iopub.status.busy": "2024-05-22T14:45:12.853576Z",
     "iopub.status.idle": "2024-05-22T14:45:16.419763Z",
     "shell.execute_reply": "2024-05-22T14:45:16.416530Z"
    },
    "tags": []
   },
   "outputs": [
    {
     "name": "stderr",
     "output_type": "stream",
     "text": [
      "\u001b[1m\u001b[22mSaving 6.67 x 6.67 in image\n",
      "\u001b[1m\u001b[22m`geom_smooth()` using formula = 'y ~ x'\n"
     ]
    }
   ],
   "source": [
    "library(ggplot2)\n",
    "\n",
    "# Créer un jeu de données exemple\n",
    "set.seed(123)\n",
    "data <- data.frame(\n",
    "  x = rnorm(100),\n",
    "  y = rnorm(100),\n",
    "  group = sample(letters[1:3], 100, replace = TRUE)\n",
    ")\n",
    "\n",
    "# Créer le graphique de dispersion avec une régression linéaire\n",
    "p <- ggplot(data, aes(x = x, y = y, color = group)) +\n",
    "  geom_point() +\n",
    "  geom_smooth(method = \"lm\", se = FALSE) +\n",
    "  theme_minimal() +\n",
    "  labs(\n",
    "    title = \"Graphique de dispersion avec régression linéaire\",\n",
    "    x = \"Variable X\",\n",
    "    y = \"Variable Y\",\n",
    "    color = \"Groupe\"\n",
    "  )\n",
    "\n",
    "# Enregistrer le graphique dans un fichier\n",
    "ggsave(\"scatter_plot_with_regression.png\", plot = p)\n"
   ]
  },
  {
   "cell_type": "code",
   "execution_count": 2,
   "id": "5d634a80-3846-4266-a2ee-f5c7b0e8d658",
   "metadata": {
    "execution": {
     "iopub.execute_input": "2024-05-22T14:49:03.596496Z",
     "iopub.status.busy": "2024-05-22T14:49:03.524118Z",
     "iopub.status.idle": "2024-05-22T14:49:04.346589Z",
     "shell.execute_reply": "2024-05-22T14:49:04.344080Z"
    },
    "tags": []
   },
   "outputs": [
    {
     "name": "stderr",
     "output_type": "stream",
     "text": [
      "\u001b[1m\u001b[22mSaving 6.67 x 6.67 in image\n",
      "\u001b[1m\u001b[22m`geom_smooth()` using formula = 'y ~ x'\n"
     ]
    }
   ],
   "source": [
    "set.seed(123)\n",
    "data <- data.frame(\n",
    "  x = rnorm(100),\n",
    "  y = rnorm(100),\n",
    "  group = sample(letters[1:3], 100, replace = TRUE)\n",
    ")\n",
    "\n",
    "# Créer le graphique de dispersion avec une régression linéaire\n",
    "p <- ggplot(data, aes(x = x, y = y, color = group)) +\n",
    "  geom_point() +\n",
    "  geom_smooth(method = \"lm\", se = FALSE) +\n",
    "  theme_minimal() +\n",
    "  labs(\n",
    "    title = \"Graphique de dispersion avec régression linéaire\",\n",
    "    x = \"Variable X\",\n",
    "    y = \"Variable Y\",\n",
    "    color = \"Groupe\"\n",
    "  )\n",
    "\n",
    "# Enregistrer le graphique dans un fichier\n",
    "ggsave(\"scatter_plot_with_regression.png\", plot = p)\n",
    "\n"
   ]
  },
  {
   "cell_type": "code",
   "execution_count": 4,
   "id": "39e3b26a-2fff-46c6-bfef-0219529e5ab1",
   "metadata": {
    "execution": {
     "iopub.execute_input": "2024-05-22T14:49:10.875834Z",
     "iopub.status.busy": "2024-05-22T14:49:10.871431Z",
     "iopub.status.idle": "2024-05-22T14:49:10.914109Z",
     "shell.execute_reply": "2024-05-22T14:49:10.912007Z"
    },
    "tags": []
   },
   "outputs": [],
   "source": [
    "set.seed(123)\n",
    "data <- data.frame(\n",
    "  x = rnorm(100),\n",
    "  y = rnorm(100),\n",
    "  group = sample(letters[1:3], 100, replace = TRUE)\n",
    ")\n",
    "\n",
    "# Créer le graphique de dispersion avec une régression linéaire\n",
    "p <- ggplot(data, aes(x = x, y = y, color = group)) +\n",
    "  geom_point() +\n",
    "  geom_smooth(method = \"lm\", se = FALSE) +\n",
    "  theme_minimal() +\n",
    "  labs(\n",
    "    title = \"Graphique de dispersion avec régression linéaire\",\n",
    "    x = \"Variable X\",\n",
    "    y = \"Variable Y\",\n",
    "    color = \"Groupe\"\n",
    "  )\n",
    "\n"
   ]
  },
  {
   "cell_type": "code",
   "execution_count": 5,
   "id": "0ab00325-4233-4961-bf27-7f8bad2514a5",
   "metadata": {
    "execution": {
     "iopub.execute_input": "2024-05-22T14:49:16.063951Z",
     "iopub.status.busy": "2024-05-22T14:49:16.056546Z",
     "iopub.status.idle": "2024-05-22T14:49:16.106785Z",
     "shell.execute_reply": "2024-05-22T14:49:16.104110Z"
    },
    "tags": []
   },
   "outputs": [],
   "source": [
    "set.seed(123)\n",
    "data <- data.frame(\n",
    "  x = rnorm(100),\n",
    "  y = rnorm(100),\n",
    "  group = sample(letters[1:3], 100, replace = TRUE)\n",
    ")\n",
    "\n",
    "# Créer le graphique de dispersion avec une régression linéaire\n",
    "p <- ggplot(data, aes(x = x, y = y, color = group)) +\n",
    "  geom_point() +\n",
    "  geom_smooth(method = \"lm\", se = FALSE) +\n",
    "  theme_minimal() +\n",
    "  labs(\n",
    "    title = \"Graphique de dispersion avec régression linéaire\",\n",
    "    x = \"Variable X\",\n",
    "    y = \"Variable Y\",\n",
    "    color = \"Groupe\"\n",
    "  )\n"
   ]
  },
  {
   "cell_type": "code",
   "execution_count": 6,
   "id": "e2492fcb-6ee0-46a3-8e2d-9d46811b31b7",
   "metadata": {
    "execution": {
     "iopub.execute_input": "2024-05-22T14:50:23.681124Z",
     "iopub.status.busy": "2024-05-22T14:50:23.674311Z",
     "iopub.status.idle": "2024-05-22T14:50:23.717017Z",
     "shell.execute_reply": "2024-05-22T14:50:23.713299Z"
    },
    "tags": []
   },
   "outputs": [
    {
     "ename": "ERROR",
     "evalue": "Error in parse(text = x, srcfile = src): <text>:4:1: unexpected input\n3: \n4: £\n   ^\n",
     "output_type": "error",
     "traceback": [
      "Error in parse(text = x, srcfile = src): <text>:4:1: unexpected input\n3: \n4: £\n   ^\nTraceback:\n"
     ]
    }
   ],
   "source": [
    "install.packages(\"ggplot2\")\n",
    "install.packages(\"plotly\")\n",
    "\n",
    "£"
   ]
  },
  {
   "cell_type": "code",
   "execution_count": 7,
   "id": "95a428ec-5464-4ade-8bee-df94d483b20a",
   "metadata": {
    "execution": {
     "iopub.execute_input": "2024-05-22T14:50:27.286585Z",
     "iopub.status.busy": "2024-05-22T14:50:27.280597Z",
     "iopub.status.idle": "2024-05-22T14:51:52.769119Z",
     "shell.execute_reply": "2024-05-22T14:51:52.763193Z"
    },
    "tags": []
   },
   "outputs": [
    {
     "name": "stderr",
     "output_type": "stream",
     "text": [
      "Installing package into ‘/home/.local/R/4.3/lib’\n",
      "(as ‘lib’ is unspecified)\n",
      "\n",
      "Installing package into ‘/home/.local/R/4.3/lib’\n",
      "(as ‘lib’ is unspecified)\n",
      "\n"
     ]
    }
   ],
   "source": [
    "install.packages(\"ggplot2\")\n",
    "install.packages(\"plotly\")"
   ]
  },
  {
   "cell_type": "code",
   "execution_count": null,
   "id": "4e561315-9bc9-4f8d-aa5e-5a057e16b419",
   "metadata": {},
   "outputs": [],
   "source": []
  }
 ],
 "metadata": {
  "kernelspec": {
   "display_name": "R",
   "language": "R",
   "name": "ir"
  },
  "language_info": {
   "codemirror_mode": "r",
   "file_extension": ".r",
   "mimetype": "text/x-r-source",
   "name": "R",
   "pygments_lexer": "r",
   "version": "4.3.2"
  }
 },
 "nbformat": 4,
 "nbformat_minor": 5
}
